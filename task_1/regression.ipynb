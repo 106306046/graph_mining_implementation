{
 "cells": [
  {
   "cell_type": "code",
   "execution_count": null,
   "metadata": {},
   "outputs": [],
   "source": [
    "import matplotlib.pyplot as publish_display_data\n",
    "import numpy as np\n",
    "import pandas as pd\n",
    "from sklearn.linear_model import Lasso, LinearRegression, Ridge\n",
    "from sklearn.model_selection import cross_val_score, train_test_split\n",
    "from sklearn.metrics import r2_score, mean_squared_error\n",
    "from sklearn.preprocessing import StandardScaler\n",
    "from sklearn.preprocessing import PolynomialFeatures"
   ]
  },
  {
   "cell_type": "code",
   "execution_count": null,
   "metadata": {},
   "outputs": [],
   "source": [
    "df = pd. read_csv\n",
    "x = df. drop('price',axis=1).values\n",
    "y = df['price'].values\n",
    "x_train,x_test,y_train,y_test = train_test_split(x,y, test_size=0.1, random_state=1)\n",
    "\n"
   ]
  },
  {
   "attachments": {},
   "cell_type": "markdown",
   "metadata": {},
   "source": [
    "二次方regression"
   ]
  },
  {
   "cell_type": "code",
   "execution_count": null,
   "metadata": {},
   "outputs": [],
   "source": [
    "quad_regr = LinearRegression()\n",
    "\n",
    "quadratic = PolynomialFeatures(degree=2)\n",
    "\n",
    "x_quand_train = quadratic.fit_transform(x_train_std)\n",
    "x_quand_test = quadratic.fit_transform(x_test_std)\n",
    "\n",
    "quad_regr.fit(x_quand_train,y_train)\n",
    "linear_r2_train = r2_score(y_train, quad_regr.predict(x_quand_train))\n",
    "linear_r2_test = r2_score(y_test, quad_regr.predict(x_quand_test))"
   ]
  }
 ],
 "metadata": {
  "language_info": {
   "name": "python"
  },
  "orig_nbformat": 4
 },
 "nbformat": 4,
 "nbformat_minor": 2
}
